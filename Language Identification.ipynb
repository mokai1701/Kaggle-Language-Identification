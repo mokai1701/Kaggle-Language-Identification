{
 "cells": [
  {
   "cell_type": "markdown",
   "metadata": {},
   "source": [
    "## Kaggle Language Identification\n",
    "\n",
    "<div class=\"alert alert-info\" style=\"margin: 20px\">A beloved home South Africa is, with its melting pot of culture, art, tradition and boasts of 11 official languages found spread across all 9 of its Provinces. <br>\n",
    "The purpose of the notebook is to take a journey into the heart and richness of the 11 amazing languages it posseses by creating a classification model that can detect which  of the 11 languages a text could belong... </div>"
   ]
  },
  {
   "cell_type": "markdown",
   "metadata": {},
   "source": [
    "### Part 1 of the classification approach followed is to  import the neccessary libraries that aid in:\n",
    "- Numerical computation\n",
    "- Data Import and manipulation\n",
    "- Data set split into training and test\n",
    "- Model training and prediction\n",
    "\n",
    "### Part 2 to follow is to import csv files namely of the:\n",
    "- Train set\n",
    "- Test set\n",
    "- Sample sumbission\n",
    "- Analyse the imported data\n",
    "\n",
    "### Part 3 of the notebook is for:\n",
    "- Training\n",
    "- Predictions\n",
    "____"
   ]
  },
  {
   "cell_type": "markdown",
   "metadata": {},
   "source": [
    "### Part 1: Import helper libraries\n",
    "\n",
    "The libraries as mentioned are for numerical computation, data analysis and manipulation, training, predicting and scoring "
   ]
  },
  {
   "cell_type": "code",
   "execution_count": 24,
   "metadata": {},
   "outputs": [],
   "source": [
    "# Import libraries\n",
    "import numpy as np\n",
    "import pandas as pd\n",
    "import matplotlib.pyplot as plt\n",
    "from sklearn.model_selection import train_test_split\n",
    "from sklearn.pipeline import Pipeline\n",
    "from sklearn.model_selection import GridSearchCV\n",
    "from sklearn.svm import SVC\n",
    "from sklearn.linear_model import LogisticRegression\n",
    "from sklearn.ensemble import RandomForestClassifier\n",
    "from sklearn.naive_bayes import MultinomialNB\n",
    "from sklearn.feature_extraction.text import TfidfVectorizer\n",
    "from sklearn.metrics import classification_report, f1_score\n",
    "import warnings\n",
    "warnings.filterwarnings('ignore')"
   ]
  },
  {
   "cell_type": "markdown",
   "metadata": {},
   "source": [
    "___\n",
    "### Part 2: Import data and perform analysis\n",
    "\n",
    "This part of the notebook deals with reading in the data, analysing the data for the types of data types in the datasets, as this guides in the vectorization of features.\n",
    "The above is done because machine learning models cannot train on object type data, therefore during analysis, data types are accounted for.\n",
    "Missing values are also accounted for in the rows and also any whitespaces within the columns.\n",
    "Lastly, the label column classes are checked for data imbalancing to see the distribution of the classes and if any resampling will need to be performed"
   ]
  },
  {
   "cell_type": "code",
   "execution_count": 3,
   "metadata": {},
   "outputs": [],
   "source": [
    "# Import the datasets\n",
    "train = pd.read_csv('train_set.csv')\n",
    "test = pd.read_csv('test_set.csv')"
   ]
  },
  {
   "cell_type": "code",
   "execution_count": 32,
   "metadata": {},
   "outputs": [
    {
     "data": {
      "text/html": [
       "<div>\n",
       "<style scoped>\n",
       "    .dataframe tbody tr th:only-of-type {\n",
       "        vertical-align: middle;\n",
       "    }\n",
       "\n",
       "    .dataframe tbody tr th {\n",
       "        vertical-align: top;\n",
       "    }\n",
       "\n",
       "    .dataframe thead th {\n",
       "        text-align: right;\n",
       "    }\n",
       "</style>\n",
       "<table border=\"1\" class=\"dataframe\">\n",
       "  <thead>\n",
       "    <tr style=\"text-align: right;\">\n",
       "      <th></th>\n",
       "      <th>index</th>\n",
       "      <th>lang_id</th>\n",
       "    </tr>\n",
       "  </thead>\n",
       "  <tbody>\n",
       "    <tr>\n",
       "      <th>0</th>\n",
       "      <td>1</td>\n",
       "      <td>tsn</td>\n",
       "    </tr>\n",
       "    <tr>\n",
       "      <th>1</th>\n",
       "      <td>2</td>\n",
       "      <td>nbl</td>\n",
       "    </tr>\n",
       "  </tbody>\n",
       "</table>\n",
       "</div>"
      ],
      "text/plain": [
       "   index lang_id\n",
       "0      1     tsn\n",
       "1      2     nbl"
      ]
     },
     "execution_count": 32,
     "metadata": {},
     "output_type": "execute_result"
    }
   ],
   "source": [
    "# Viewing the sample_submission file to see how the submission file should look\n",
    "sub = pd.read_csv('sample_submission.csv')\n",
    "sub.head()"
   ]
  },
  {
   "cell_type": "markdown",
   "metadata": {},
   "source": [
    "___\n",
    "#### Analysis of the train set\n",
    "\n",
    "The first analysis is performed on the train set in the the following cells below:"
   ]
  },
  {
   "cell_type": "code",
   "execution_count": 4,
   "metadata": {},
   "outputs": [
    {
     "data": {
      "text/html": [
       "<div>\n",
       "<style scoped>\n",
       "    .dataframe tbody tr th:only-of-type {\n",
       "        vertical-align: middle;\n",
       "    }\n",
       "\n",
       "    .dataframe tbody tr th {\n",
       "        vertical-align: top;\n",
       "    }\n",
       "\n",
       "    .dataframe thead th {\n",
       "        text-align: right;\n",
       "    }\n",
       "</style>\n",
       "<table border=\"1\" class=\"dataframe\">\n",
       "  <thead>\n",
       "    <tr style=\"text-align: right;\">\n",
       "      <th></th>\n",
       "      <th>lang_id</th>\n",
       "      <th>text</th>\n",
       "    </tr>\n",
       "  </thead>\n",
       "  <tbody>\n",
       "    <tr>\n",
       "      <th>0</th>\n",
       "      <td>xho</td>\n",
       "      <td>umgaqo-siseko wenza amalungiselelo kumaziko ax...</td>\n",
       "    </tr>\n",
       "    <tr>\n",
       "      <th>1</th>\n",
       "      <td>xho</td>\n",
       "      <td>i-dha iya kuba nobulumko bokubeka umsebenzi na...</td>\n",
       "    </tr>\n",
       "    <tr>\n",
       "      <th>2</th>\n",
       "      <td>eng</td>\n",
       "      <td>the province of kwazulu-natal department of tr...</td>\n",
       "    </tr>\n",
       "    <tr>\n",
       "      <th>3</th>\n",
       "      <td>nso</td>\n",
       "      <td>o netefatša gore o ba file dilo ka moka tše le...</td>\n",
       "    </tr>\n",
       "    <tr>\n",
       "      <th>4</th>\n",
       "      <td>ven</td>\n",
       "      <td>khomishini ya ndinganyiso ya mbeu yo ewa maana...</td>\n",
       "    </tr>\n",
       "  </tbody>\n",
       "</table>\n",
       "</div>"
      ],
      "text/plain": [
       "  lang_id                                               text\n",
       "0     xho  umgaqo-siseko wenza amalungiselelo kumaziko ax...\n",
       "1     xho  i-dha iya kuba nobulumko bokubeka umsebenzi na...\n",
       "2     eng  the province of kwazulu-natal department of tr...\n",
       "3     nso  o netefatša gore o ba file dilo ka moka tše le...\n",
       "4     ven  khomishini ya ndinganyiso ya mbeu yo ewa maana..."
      ]
     },
     "execution_count": 4,
     "metadata": {},
     "output_type": "execute_result"
    }
   ],
   "source": [
    "# View the first 5 rows of the test set\n",
    "train.head()"
   ]
  },
  {
   "cell_type": "code",
   "execution_count": 5,
   "metadata": {},
   "outputs": [
    {
     "data": {
      "text/plain": [
       "(33000, 2)"
      ]
     },
     "execution_count": 5,
     "metadata": {},
     "output_type": "execute_result"
    }
   ],
   "source": [
    "# Viewing the train columns and rows to ensure that 33000 rows and 2 columns are imported\n",
    "train.shape"
   ]
  },
  {
   "cell_type": "code",
   "execution_count": 6,
   "metadata": {},
   "outputs": [
    {
     "name": "stdout",
     "output_type": "stream",
     "text": [
      "<class 'pandas.core.frame.DataFrame'>\n",
      "RangeIndex: 33000 entries, 0 to 32999\n",
      "Data columns (total 2 columns):\n",
      " #   Column   Non-Null Count  Dtype \n",
      "---  ------   --------------  ----- \n",
      " 0   lang_id  33000 non-null  object\n",
      " 1   text     33000 non-null  object\n",
      "dtypes: object(2)\n",
      "memory usage: 515.8+ KB\n"
     ]
    }
   ],
   "source": [
    "# Summary statistic for checking data types, null_values, number of observations\n",
    "train.info()"
   ]
  },
  {
   "cell_type": "code",
   "execution_count": 10,
   "metadata": {},
   "outputs": [
    {
     "data": {
      "text/plain": [
       "lang_id    0\n",
       "text       0\n",
       "dtype: int64"
      ]
     },
     "execution_count": 10,
     "metadata": {},
     "output_type": "execute_result"
    }
   ],
   "source": [
    "# This code is just to ascertain that null values are indeed 0\n",
    "train.isnull().sum()"
   ]
  },
  {
   "cell_type": "markdown",
   "metadata": {},
   "source": [
    "___\n",
    "In data analysis, rows could or could not have missing values, in the case of missing values, pandas methods are used to handle such values in a desired manner. When dealing with text data however, extra caution needs to be taken, as some entries could not report as `NaN` in the summary statistic but could be saved as empty string or white spaces. The code below accounts for such a precaution."
   ]
  },
  {
   "cell_type": "code",
   "execution_count": 12,
   "metadata": {},
   "outputs": [
    {
     "data": {
      "text/plain": [
       "0"
      ]
     },
     "execution_count": 12,
     "metadata": {},
     "output_type": "execute_result"
    }
   ],
   "source": [
    "# Create a list called blanks_list to append any null values saved as empty strings or white spaces\n",
    "blanks_list = []\n",
    "# Iterate over the dataframe to check for whitespaces in the 'text' column\n",
    "for index, label, text in train.itertuples():\n",
    "    if type(text) == str:\n",
    "        if text.isspace():\n",
    "            blanks_list.append(index) # If any whitespaces are found, append their corresponding index\n",
    "                                      # to the blanks_list\n",
    "# There are no white spaces in the 'text' column\n",
    "len(blanks_list)"
   ]
  },
  {
   "cell_type": "code",
   "execution_count": 57,
   "metadata": {},
   "outputs": [
    {
     "data": {
      "image/png": "[encoded data removed]",
      "text/plain": [
       "<Figure size 432x288 with 1 Axes>"
      ]
     },
     "metadata": {
      "needs_background": "light"
     },
     "output_type": "display_data"
    }
   ],
   "source": [
    "# Visualising the frequency distribution of each class in the 'lang_id' column, the label counts are equal\n",
    "train['lang_id'].value_counts().plot(kind = 'bar')\n",
    "plt.xlabel('Language Identity', fontsize = 12)\n",
    "plt.ylabel('Frequency', fontsize = 12)\n",
    "plt.title('Frequency distribution of the classes', fontsize = 14)\n",
    "plt.show()"
   ]
  },
  {
   "cell_type": "markdown",
   "metadata": {},
   "source": [
    "The classes are well balanced with each other and resampling for this dataset will not be needed"
   ]
  },
  {
   "cell_type": "markdown",
   "metadata": {},
   "source": [
    "___\n",
    "#### Analysis of the test set\n",
    "\n",
    "The second analysis is performed on the train set in the the following cells below:"
   ]
  },
  {
   "cell_type": "code",
   "execution_count": 7,
   "metadata": {
    "collapsed": true
   },
   "outputs": [
    {
     "data": {
      "text/html": [
       "<div>\n",
       "<style scoped>\n",
       "    .dataframe tbody tr th:only-of-type {\n",
       "        vertical-align: middle;\n",
       "    }\n",
       "\n",
       "    .dataframe tbody tr th {\n",
       "        vertical-align: top;\n",
       "    }\n",
       "\n",
       "    .dataframe thead th {\n",
       "        text-align: right;\n",
       "    }\n",
       "</style>\n",
       "<table border=\"1\" class=\"dataframe\">\n",
       "  <thead>\n",
       "    <tr style=\"text-align: right;\">\n",
       "      <th></th>\n",
       "      <th>index</th>\n",
       "      <th>text</th>\n",
       "    </tr>\n",
       "  </thead>\n",
       "  <tbody>\n",
       "    <tr>\n",
       "      <th>0</th>\n",
       "      <td>1</td>\n",
       "      <td>Mmasepala, fa maemo a a kgethegileng a letlele...</td>\n",
       "    </tr>\n",
       "    <tr>\n",
       "      <th>1</th>\n",
       "      <td>2</td>\n",
       "      <td>Uzakwaziswa ngokufaneleko nakungafuneka eminye...</td>\n",
       "    </tr>\n",
       "    <tr>\n",
       "      <th>2</th>\n",
       "      <td>3</td>\n",
       "      <td>Tshivhumbeo tshi fana na ngano dza vhathu.</td>\n",
       "    </tr>\n",
       "    <tr>\n",
       "      <th>3</th>\n",
       "      <td>4</td>\n",
       "      <td>Kube inja nelikati betingevakala kutsi titsini...</td>\n",
       "    </tr>\n",
       "    <tr>\n",
       "      <th>4</th>\n",
       "      <td>5</td>\n",
       "      <td>Winste op buitelandse valuta.</td>\n",
       "    </tr>\n",
       "  </tbody>\n",
       "</table>\n",
       "</div>"
      ],
      "text/plain": [
       "   index                                               text\n",
       "0      1  Mmasepala, fa maemo a a kgethegileng a letlele...\n",
       "1      2  Uzakwaziswa ngokufaneleko nakungafuneka eminye...\n",
       "2      3         Tshivhumbeo tshi fana na ngano dza vhathu.\n",
       "3      4  Kube inja nelikati betingevakala kutsi titsini...\n",
       "4      5                      Winste op buitelandse valuta."
      ]
     },
     "execution_count": 7,
     "metadata": {},
     "output_type": "execute_result"
    }
   ],
   "source": [
    "# View the first 5 rows of the test set\n",
    "test.head()"
   ]
  },
  {
   "cell_type": "code",
   "execution_count": 8,
   "metadata": {},
   "outputs": [
    {
     "data": {
      "text/plain": [
       "(5682, 2)"
      ]
     },
     "execution_count": 8,
     "metadata": {},
     "output_type": "execute_result"
    }
   ],
   "source": [
    "# Viewing the test columns and rows to ensure that 5682 rows and 2 columns are imported\n",
    "test.shape"
   ]
  },
  {
   "cell_type": "code",
   "execution_count": 9,
   "metadata": {},
   "outputs": [
    {
     "name": "stdout",
     "output_type": "stream",
     "text": [
      "<class 'pandas.core.frame.DataFrame'>\n",
      "RangeIndex: 5682 entries, 0 to 5681\n",
      "Data columns (total 2 columns):\n",
      " #   Column  Non-Null Count  Dtype \n",
      "---  ------  --------------  ----- \n",
      " 0   index   5682 non-null   int64 \n",
      " 1   text    5682 non-null   object\n",
      "dtypes: int64(1), object(1)\n",
      "memory usage: 88.9+ KB\n"
     ]
    }
   ],
   "source": [
    "# Summary statistic for checking data types, null_values, number of observations\n",
    "test.info()"
   ]
  },
  {
   "cell_type": "code",
   "execution_count": 11,
   "metadata": {
    "collapsed": true
   },
   "outputs": [
    {
     "data": {
      "text/plain": [
       "index    0\n",
       "text     0\n",
       "dtype: int64"
      ]
     },
     "execution_count": 11,
     "metadata": {},
     "output_type": "execute_result"
    }
   ],
   "source": [
    "# This code is just to ascertain that null values are indeed 0\n",
    "test.isnull().sum()"
   ]
  },
  {
   "cell_type": "markdown",
   "metadata": {},
   "source": [
    "___\n",
    "As already mentioned above, in data analysis, rows could or could not have missing values, in the case of missing values, pandas methods are used to handle such values in a desired manner. When dealing with text data however, extra caution needs to be taken, as some entries could not report as `NaN` in the summary statistic but could be saved as empty string or white spaces. The code below accounts for such a precaution."
   ]
  },
  {
   "cell_type": "code",
   "execution_count": 13,
   "metadata": {
    "collapsed": true
   },
   "outputs": [
    {
     "data": {
      "text/plain": [
       "0"
      ]
     },
     "execution_count": 13,
     "metadata": {},
     "output_type": "execute_result"
    }
   ],
   "source": [
    "# Create a list called blanks_list to append any null values saved as empty strings or white spaces\n",
    "blanks_list = []\n",
    "# Iterate over the dataframe to check for whitespaces in the 'text' column\n",
    "for index, label, text in test.itertuples():\n",
    "    if type(text) == str:\n",
    "        if text.isspace():\n",
    "            blanks_list.append(index) # If any whitespaces are found, append their corresponding index\n",
    "                                      # to the blanks_list\n",
    "                \n",
    "                \n",
    "# There are no white spaces in the 'text' column\n",
    "len(blanks_list)"
   ]
  },
  {
   "cell_type": "markdown",
   "metadata": {},
   "source": [
    "___\n",
    "### Part 3: Training, Testing and Predictions\n",
    "\n",
    "- Training\n",
    "- Predictions\n",
    "___\n",
    "\n",
    "#### Training\n",
    "In this part of the notebook, the train set data is split into **`X`** features, using the 'text' column of the train dataframe and **`y`** labels using the 'lang_df' column of the train dataframe.\n",
    "The data is split as **`25% for the testing set and 75% for the training set with a random_state of 42`**\n",
    "\n"
   ]
  },
  {
   "cell_type": "markdown",
   "metadata": {},
   "source": [
    "##### Evaluation metric\n",
    "\n",
    "The evaluation metric of the is classification is the **`F1_score`**, depicted with the formula below:\n",
    "\n",
    "\n",
    "$$F_1 = 2 \\times \\frac {Precision \\space \\times \\space Recall }{Precision \\space + \\space Recall }$$\n",
    "\n",
    "\n",
    "\n",
    "According to [deepai.org](https://deepai.org/machine-learning-glossary-and-terms/f-score).The F-score is a way of combining the precision and recall of the model, and it is defined as the harmonic mean of the model’s precision and recall. \n",
    "___"
   ]
  },
  {
   "cell_type": "code",
   "execution_count": 21,
   "metadata": {},
   "outputs": [],
   "source": [
    "# Seperate X and y\n",
    "X = train['text']\n",
    "y = train['lang_id']\n",
    "\n",
    "# Split the train_test_split\n",
    "X_train, X_test, y_train, y_test = train_test_split(X,y, test_size = 0.25, random_state = 42)"
   ]
  },
  {
   "cell_type": "markdown",
   "metadata": {},
   "source": [
    "\n",
    "___\n",
    "The first set of models are trained on their default parameters\n",
    "\n",
    "**Logistic Regression**\n",
    "\n",
    "The first base model to be tested is a `Logistic Regression` model with multi_class set to `one-vs-rest` and will all other parameters set to default"
   ]
  },
  {
   "cell_type": "code",
   "execution_count": 46,
   "metadata": {},
   "outputs": [
    {
     "name": "stdout",
     "output_type": "stream",
     "text": [
      "0.9944853939482295\n",
      "              precision    recall  f1-score   support\n",
      "\n",
      "         afr       1.00      0.99      1.00       754\n",
      "         eng       1.00      1.00      1.00       762\n",
      "         nbl       0.98      0.99      0.99       734\n",
      "         nso       1.00      0.99      1.00       782\n",
      "         sot       1.00      1.00      1.00       759\n",
      "         ssw       0.99      0.99      0.99       732\n",
      "         tsn       1.00      1.00      1.00       746\n",
      "         tso       1.00      1.00      1.00       700\n",
      "         ven       1.00      1.00      1.00       785\n",
      "         xho       0.99      1.00      0.99       761\n",
      "         zul       0.98      0.97      0.98       735\n",
      "\n",
      "    accuracy                           0.99      8250\n",
      "   macro avg       0.99      0.99      0.99      8250\n",
      "weighted avg       0.99      0.99      0.99      8250\n",
      "\n"
     ]
    }
   ],
   "source": [
    "# Logistic regression with default params pipeline\n",
    "text_clf = text_clf = Pipeline([('tfidf', TfidfVectorizer()),\n",
    "                     ('clf', LogisticRegression(multi_class = 'ovr'))])\n",
    "\n",
    "# Fit the model\n",
    "model = text_clf.fit(X_train, y_train)\n",
    "\n",
    "# Form a prediction set\n",
    "y_pred = model.predict(X_test)\n",
    "\n",
    "# Print the overall accuracy\n",
    "print('The F1_Score of the Logistic Regression model with default parameters is:',f1_score(y_test, y_pred, average = 'macro'))\n",
    "print()\n",
    "# Print a classification report\n",
    "print(classification_report(y_test, y_pred))"
   ]
  },
  {
   "cell_type": "markdown",
   "metadata": {},
   "source": [
    "\n",
    "___\n",
    "**Random Forest Classifier**\n",
    "\n",
    "The second model to be tested is a `Random Forest Classifier` model with parameters set to default"
   ]
  },
  {
   "cell_type": "code",
   "execution_count": 58,
   "metadata": {},
   "outputs": [
    {
     "name": "stdout",
     "output_type": "stream",
     "text": [
      "0.9835056486879211\n",
      "              precision    recall  f1-score   support\n",
      "\n",
      "         afr       1.00      1.00      1.00       754\n",
      "         eng       0.99      1.00      1.00       762\n",
      "         nbl       0.96      0.96      0.96       734\n",
      "         nso       1.00      0.99      1.00       782\n",
      "         sot       1.00      1.00      1.00       759\n",
      "         ssw       0.99      0.96      0.98       732\n",
      "         tsn       1.00      1.00      1.00       746\n",
      "         tso       1.00      1.00      1.00       700\n",
      "         ven       1.00      1.00      1.00       785\n",
      "         xho       0.97      0.96      0.97       761\n",
      "         zul       0.91      0.95      0.93       735\n",
      "\n",
      "    accuracy                           0.98      8250\n",
      "   macro avg       0.98      0.98      0.98      8250\n",
      "weighted avg       0.98      0.98      0.98      8250\n",
      "\n"
     ]
    }
   ],
   "source": [
    "# Random Forest Classifier with default params pipeline\n",
    "text_clf = text_clf = Pipeline([('tfidf', TfidfVectorizer()),\n",
    "                     ('clf', RandomForestClassifier())])\n",
    "\n",
    "# Fit the model\n",
    "model = text_clf.fit(X_train, y_train)\n",
    "\n",
    "# Form a prediction set\n",
    "y_pred = model.predict(X_test)\n",
    "\n",
    "# Print the overall accuracy\n",
    "print('The F1_Score of the Random Forest Classifier model with default parameters is:',f1_score(y_test, y_pred, average = 'macro'))\n",
    "print()\n",
    "# Print a classification report\n",
    "print(classification_report(y_test, y_pred))"
   ]
  },
  {
   "cell_type": "markdown",
   "metadata": {},
   "source": [
    "___\n",
    "**Support Vector Classifier**\n",
    "\n",
    "The third model to be tested is a `Support Vector Classifier` model with parameters set to default"
   ]
  },
  {
   "cell_type": "code",
   "execution_count": 64,
   "metadata": {},
   "outputs": [
    {
     "name": "stdout",
     "output_type": "stream",
     "text": [
      "0.9951273633086045\n",
      "\n",
      "              precision    recall  f1-score   support\n",
      "\n",
      "         afr       1.00      0.99      1.00       754\n",
      "         eng       1.00      0.99      1.00       762\n",
      "         nbl       0.99      0.99      0.99       734\n",
      "         nso       1.00      0.99      1.00       782\n",
      "         sot       1.00      1.00      1.00       759\n",
      "         ssw       1.00      1.00      1.00       732\n",
      "         tsn       1.00      1.00      1.00       746\n",
      "         tso       1.00      1.00      1.00       700\n",
      "         ven       1.00      1.00      1.00       785\n",
      "         xho       0.99      1.00      0.99       761\n",
      "         zul       0.97      0.99      0.98       735\n",
      "\n",
      "    accuracy                           1.00      8250\n",
      "   macro avg       1.00      1.00      1.00      8250\n",
      "weighted avg       1.00      1.00      1.00      8250\n",
      "\n"
     ]
    }
   ],
   "source": [
    "# Support Vector Classifier with default params pipeline, and kernel = 'rbf'\n",
    "text_clf = text_clf = Pipeline([('tfidf', TfidfVectorizer()),\n",
    "                     ('clf', SVC())])\n",
    "\n",
    "# Fit the model\n",
    "model = text_clf.fit(X_train, y_train)\n",
    "\n",
    "# Form a prediction set\n",
    "y_pred = model.predict(X_test)\n",
    "\n",
    "# Print the overall accuracy\n",
    "print('The F1_Score of the Support Vector Classifier model with default parameters is:',f1_score(y_test, y_pred, average = 'macro'))\n",
    "print()\n",
    "# Print a classification report\n",
    "print(classification_report(y_test, y_pred))"
   ]
  },
  {
   "cell_type": "markdown",
   "metadata": {},
   "source": [
    "___\n",
    "**Support Vector Classifier**\n",
    "\n",
    "The fourth model to be tested is a `Support Vector Classifier` model with `kernel = 'linear'`"
   ]
  },
  {
   "cell_type": "code",
   "execution_count": 70,
   "metadata": {},
   "outputs": [
    {
     "name": "stdout",
     "output_type": "stream",
     "text": [
      "The F1_Score of the Support Vector Classifier model with kernel = 'linear' is: 0.9963510578302327\n",
      "\n",
      "              precision    recall  f1-score   support\n",
      "\n",
      "         afr       1.00      0.99      1.00       754\n",
      "         eng       1.00      1.00      1.00       762\n",
      "         nbl       0.99      0.99      0.99       734\n",
      "         nso       1.00      0.99      1.00       782\n",
      "         sot       1.00      1.00      1.00       759\n",
      "         ssw       1.00      1.00      1.00       732\n",
      "         tsn       1.00      1.00      1.00       746\n",
      "         tso       1.00      1.00      1.00       700\n",
      "         ven       1.00      1.00      1.00       785\n",
      "         xho       0.99      1.00      0.99       761\n",
      "         zul       0.98      0.99      0.99       735\n",
      "\n",
      "    accuracy                           1.00      8250\n",
      "   macro avg       1.00      1.00      1.00      8250\n",
      "weighted avg       1.00      1.00      1.00      8250\n",
      "\n"
     ]
    }
   ],
   "source": [
    "# Support Vector Classifier with default params pipeline, and kernel = 'linear'\n",
    "text_clf = text_clf = Pipeline([('tfidf', TfidfVectorizer()),\n",
    "                     ('clf', SVC(kernel = 'linear'))])\n",
    "\n",
    "# Fit the model\n",
    "model = text_clf.fit(X_train, y_train)\n",
    "\n",
    "# Form a prediction set\n",
    "y_pred = model.predict(X_test)\n",
    "\n",
    "# Print the overall accuracy\n",
    "print(\"The F1_Score of the Support Vector Classifier model with kernel = 'linear' is:\",f1_score(y_test, y_pred, average = 'macro'))\n",
    "print()\n",
    "# Print a classification report\n",
    "print(classification_report(y_test, y_pred))"
   ]
  },
  {
   "cell_type": "markdown",
   "metadata": {},
   "source": [
    "___\n",
    "#### Prediction on the test set\n",
    "\n",
    "A new dataframe is created that takes in the index from the test dataframe and adds a new column `lang_id` from the predictions of the trained model"
   ]
  },
  {
   "cell_type": "code",
   "execution_count": 71,
   "metadata": {},
   "outputs": [
    {
     "data": {
      "text/html": [
       "<div>\n",
       "<style scoped>\n",
       "    .dataframe tbody tr th:only-of-type {\n",
       "        vertical-align: middle;\n",
       "    }\n",
       "\n",
       "    .dataframe tbody tr th {\n",
       "        vertical-align: top;\n",
       "    }\n",
       "\n",
       "    .dataframe thead th {\n",
       "        text-align: right;\n",
       "    }\n",
       "</style>\n",
       "<table border=\"1\" class=\"dataframe\">\n",
       "  <thead>\n",
       "    <tr style=\"text-align: right;\">\n",
       "      <th></th>\n",
       "      <th>index</th>\n",
       "    </tr>\n",
       "  </thead>\n",
       "  <tbody>\n",
       "    <tr>\n",
       "      <th>0</th>\n",
       "      <td>1</td>\n",
       "    </tr>\n",
       "    <tr>\n",
       "      <th>1</th>\n",
       "      <td>2</td>\n",
       "    </tr>\n",
       "    <tr>\n",
       "      <th>2</th>\n",
       "      <td>3</td>\n",
       "    </tr>\n",
       "    <tr>\n",
       "      <th>3</th>\n",
       "      <td>4</td>\n",
       "    </tr>\n",
       "    <tr>\n",
       "      <th>4</th>\n",
       "      <td>5</td>\n",
       "    </tr>\n",
       "  </tbody>\n",
       "</table>\n",
       "</div>"
      ],
      "text/plain": [
       "   index\n",
       "0      1\n",
       "1      2\n",
       "2      3\n",
       "3      4\n",
       "4      5"
      ]
     },
     "execution_count": 71,
     "metadata": {},
     "output_type": "execute_result"
    }
   ],
   "source": [
    "# Create a new dataframe, called sub_df that takes the 'index' column from the test dataset\n",
    "sub_df = test[['index']]\n",
    "sub_df.head()"
   ]
  },
  {
   "cell_type": "code",
   "execution_count": 72,
   "metadata": {},
   "outputs": [],
   "source": [
    "# Form a prediction set\n",
    "test_pred = model.predict(test['text'])"
   ]
  },
  {
   "cell_type": "code",
   "execution_count": 73,
   "metadata": {},
   "outputs": [],
   "source": [
    "# Add the prediction as a column to the sub_df dataframe\n",
    "sub_df['lang_id'] = test_pred"
   ]
  },
  {
   "cell_type": "code",
   "execution_count": 74,
   "metadata": {},
   "outputs": [
    {
     "data": {
      "text/html": [
       "<div>\n",
       "<style scoped>\n",
       "    .dataframe tbody tr th:only-of-type {\n",
       "        vertical-align: middle;\n",
       "    }\n",
       "\n",
       "    .dataframe tbody tr th {\n",
       "        vertical-align: top;\n",
       "    }\n",
       "\n",
       "    .dataframe thead th {\n",
       "        text-align: right;\n",
       "    }\n",
       "</style>\n",
       "<table border=\"1\" class=\"dataframe\">\n",
       "  <thead>\n",
       "    <tr style=\"text-align: right;\">\n",
       "      <th></th>\n",
       "      <th>index</th>\n",
       "      <th>lang_id</th>\n",
       "    </tr>\n",
       "  </thead>\n",
       "  <tbody>\n",
       "    <tr>\n",
       "      <th>0</th>\n",
       "      <td>1</td>\n",
       "      <td>zul</td>\n",
       "    </tr>\n",
       "    <tr>\n",
       "      <th>1</th>\n",
       "      <td>2</td>\n",
       "      <td>nbl</td>\n",
       "    </tr>\n",
       "    <tr>\n",
       "      <th>2</th>\n",
       "      <td>3</td>\n",
       "      <td>ven</td>\n",
       "    </tr>\n",
       "    <tr>\n",
       "      <th>3</th>\n",
       "      <td>4</td>\n",
       "      <td>ssw</td>\n",
       "    </tr>\n",
       "    <tr>\n",
       "      <th>4</th>\n",
       "      <td>5</td>\n",
       "      <td>zul</td>\n",
       "    </tr>\n",
       "  </tbody>\n",
       "</table>\n",
       "</div>"
      ],
      "text/plain": [
       "   index lang_id\n",
       "0      1     zul\n",
       "1      2     nbl\n",
       "2      3     ven\n",
       "3      4     ssw\n",
       "4      5     zul"
      ]
     },
     "execution_count": 74,
     "metadata": {},
     "output_type": "execute_result"
    }
   ],
   "source": [
    "# View the first few entries to ensure it looks similar to the required sample_submission\n",
    "sub_df.head()"
   ]
  },
  {
   "cell_type": "code",
   "execution_count": 75,
   "metadata": {},
   "outputs": [],
   "source": [
    "# Submission file\n",
    "sub_df.to_csv('base_submission_linsvc.csv', index= False)"
   ]
  },
  {
   "cell_type": "code",
   "execution_count": null,
   "metadata": {},
   "outputs": [],
   "source": []
  }
 ],
 "metadata": {
  "kernelspec": {
   "display_name": "Python 3",
   "language": "python",
   "name": "python3"
  },
  "language_info": {
   "codemirror_mode": {
    "name": "ipython",
    "version": 3
   },
   "file_extension": ".py",
   "mimetype": "text/x-python",
   "name": "python",
   "nbconvert_exporter": "python",
   "pygments_lexer": "ipython3",
   "version": "3.7.9"
  }
 },
 "nbformat": 4,
 "nbformat_minor": 4
}
